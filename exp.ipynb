{
 "cells": [
  {
   "cell_type": "code",
   "execution_count": 21,
   "id": "ddb93210",
   "metadata": {
    "scrolled": false
   },
   "outputs": [
    {
     "name": "stdout",
     "output_type": "stream",
     "text": [
      "{'paperId': '40345901fd28cbf65791c34671db6548b1089ed4', 'url': 'https://www.semanticscholar.org/paper/40345901fd28cbf65791c34671db6548b1089ed4', 'title': 'BIGPATENT: A Large-Scale Dataset for Abstractive and Coherent Summarization', 'abstract': 'Most existing text summarization datasets are compiled from the news domain, where summaries have a flattened discourse structure. In such datasets, summary-worthy content often appears in the beginning of input articles. Moreover, large segments from input articles are present verbatim in their respective summaries. These issues impede the learning and evaluation of systems that can understand an article’s global content structure as well as produce abstractive summaries with high compression ratio. In this work, we present a novel dataset, BIGPATENT, consisting of 1.3 million records of U.S. patent documents along with human written abstractive summaries. Compared to existing summarization datasets, BIGPATENT has the following properties: i) summaries contain a richer discourse structure with more recurring entities, ii) salient content is evenly distributed in the input, and iii) lesser and shorter extractive fragments are present in the summaries. Finally, we train and evaluate baselines and popular learning models on BIGPATENT to shed light on new challenges and motivate future directions for summarization research.', 'citationCount': 214, 'citationStyles': {'bibtex': '@Article{Sharma2019BIGPATENTAL,\\n author = {Eva Sharma and Chen Li and Lu Wang},\\n booktitle = {Annual Meeting of the Association for Computational Linguistics},\\n journal = {ArXiv},\\n title = {BIGPATENT: A Large-Scale Dataset for Abstractive and Coherent Summarization},\\n volume = {abs/1906.03741},\\n year = {2019}\\n}\\n'}}\n"
     ]
    }
   ],
   "source": [
    "from semanticscholar import SemanticScholar\n",
    "\n",
    "sch = SemanticScholar()\n",
    "response = sch.search_paper(\n",
    "    query='Abstractive text summarization and new large-scale datasets',\n",
    "    bulk=True,\n",
    "    sort='citationCount:desc',\n",
    "    min_citation_count=50,\n",
    "    fields=['abstract', 'citationCount','citationStyles', 'title', 'url',]\n",
    ")\n",
    "\n",
    "for item in response:\n",
    "    print(item)"
   ]
  },
  {
   "cell_type": "code",
   "execution_count": 24,
   "id": "d3ab9dd2",
   "metadata": {},
   "outputs": [
    {
     "name": "stdout",
     "output_type": "stream",
     "text": [
      "Found in zzh-tech/InterpAny-Clearer at models/DI-EMA-VFI/config.py\n",
      "Found in baohaojun/system-config at gcode/scim-cs/ime-py/wubi86_trans.py\n",
      "Found in NangInShell/VSET at src/VSET.py\n",
      "Found in CiscoTestAutomation/genieparser at src/genie/libs/parser/iosxr/show_l2vpn.py\n",
      "Found in CMU-MultiComp-Lab/CMU-MultimodalSDK at mmsdk/mmdatasdk/dataset/standard_datasets/CMU_MOSI/cmu_mosi_std_folds.py\n",
      "Found in Silviumuraru90/Library-of-Babel at process_pool.py\n",
      "Found in dd4e/pyedid at pyedid/types/default.py\n",
      "Found in Imaduddin-Mohammed/multinational_retail_proj at data_cleaning.py\n",
      "Found in lzjjeff/TCSP at dataset_splits.py\n",
      "Found in CiscoTestAutomation/genielibs at pkgs/conf-pkg/src/genie/libs/conf/l2vpn/vfi.py\n",
      "Found in silvanabc/sentiment-analysis at features/mosi_dataset.py\n",
      "Found in luci/luci-py at appengine/swarming/bb/go/chromium/org/luci/buildbucket/proto/backend_prpc_pb2.py\n",
      "Found in BrianAtCode/FFMPEG_Video_Capture_Tool at DEMUXER_TYPES.py\n",
      "Found in ecmwf/pyeccodes at pyeccodes/defs/grib1/localConcepts/ecmf/shortName_def.py\n",
      "Found in LiuFang816/SALSTM_py_data at python/baohaojun_system-config/system-config-master/gcode/scim-cs/ime-py/wubi86_trans_multi.py\n",
      "Found in bezirganyan/m2-mixer at datasets/mosi_preprocessing.py\n",
      "Found in pwerth/python-metropolis-crypto at WarAndPeaceNgramCounts.py\n",
      "Found in baohaojun/system-config at gcode/scim-cs/ime-py/wubi86_multi_trans.py\n",
      "Found in ydhira/ser_transformer_positional at mosi_process.py\n",
      "Found in PanPeryskop/RandomQueue at main.py\n",
      "Found in ando-hub/MSA_Pretrain at scripts/preproc/cmu_mosi_std_folds.py\n",
      "Found in pymupdf/pymupdf-fonts at pymupdf_fonts/NotoSans_Bold.py\n",
      "Found in pymupdf/pymupdf-fonts at pymupdf_fonts/FiraMono_Regular.py\n",
      "Found in pymupdf/pymupdf-fonts at pymupdf_fonts/Ubuntu_BoldItalic.py\n",
      "Found in goalmeida05/PERSEU at PERSEUcpp.py\n",
      "Found in s-charvin/torchTraining at custom_datasets/MOSI.py\n",
      "Found in move-z/adventofcode2015 at src/05_doesnt_he_have_intern_elves_for_this.py\n",
      "Found in qiushenjie/VeryMix-webui at models/EMAVFI/config.py\n",
      "Found in PanPeryskop/discord_bot at genres.py\n",
      "Found in Madjid-CH/auto-mixer at auto_mixer/datasets/mosi_preprocessing.py\n",
      "Found in jakehlee/alexa-stop at evaluation.py\n",
      "Found in zzh-tech/InterpAny-Clearer at models/DI-EMA-VFI/config_recur.py\n",
      "Found in Tokimimo12/BScThesis at Thesis/mmsdk/mmdatasdk/dataset/standard_datasets/CMU_MOSI/cmu_mosi_std_folds.py\n",
      "Found in Silviumuraru90/Library-of-Babel at library_of_babel.py\n",
      "Found in Silviumuraru90/Library-of-Babel at async_events.py\n",
      "Found in luci/luci-py at appengine/swarming/bb/go/chromium/org/luci/buildbucket/proto/builds_service_prpc_pb2.py\n",
      "Found in ecmwf/pyeccodes at pyeccodes/defs/grib1/localConcepts/ecmf/cfVarName_def.py\n",
      "Found in baohaojun/system-config at gcode/scim-cs/ime-py/wubi98_multi_trans.py\n",
      "Found in PanPeryskop/MultiSpot at main.pyw\n",
      "Found in pymupdf/pymupdf-fonts at pymupdf_fonts/NotoSansMath_Regular.py\n",
      "Found in baohaojun/system-config at gcode/scim-cs/ime-py/wubi98_single_trans.py\n",
      "Found in qianfan1996/SKESL at data/CMU-MOSI/train_valid_test_fold.py\n",
      "Found in Pomroka/PreviousChallenges at Challenge_52_2/test_cases_ch_52_2.py\n",
      "Found in CiscoTestAutomation/genieparser at src/genie/libs/parser/iosxr/tests/ShowL2vpnBridgeDomainDetail/cli/equal/golden9_expected.py\n",
      "Found in CiscoTestAutomation/genieparser at src/genie/libs/parser/iosxr/tests/ShowL2vpnBridgeDomainDetail/cli/equal/golden4_expected.py\n",
      "Found in CiscoTestAutomation/genieparser at src/genie/libs/parser/iosxr/tests/ShowL2vpnBridgeDomainDetail/cli/equal/golden5_expected.py\n",
      "Found in CiscoTestAutomation/genieparser at src/genie/libs/parser/iosxr/tests/ShowL2vpnBridgeDomainDetail/cli/equal/golden3_expected.py\n",
      "Found in barry-008/system-config at gcode/scim-cs/ime-py/wubi86_trans.py\n",
      "Found in matsuolab/CMU-MultimodalSDK at mmsdk/mmdatasdk/dataset/standard_datasets/CMU_MOSI/cmu_mosi_std_folds.py\n",
      "Found in ecfm/CMU-MultimodalSDK at mmsdk/mmdatasdk/dataset/standard_datasets/CMU_MOSI/cmu_mosi_std_folds.py\n",
      "Found in dingchaoyue/AcFormer at mmsdk/mmdatasdk/dataset/standard_datasets/CMU_MOSI/cmu_mosi_std_folds.py\n",
      "Found in shamanez/MAIA-Data-Processing at Preprocessing_scripts/cmu-mosi/mosi_fold.py\n",
      "Found in JackAILab/TMBL at CMU-MultimodalSDK-main/mmsdk/mmdatasdk/dataset/standard_datasets/CMU_MOSI/cmu_mosi_std_folds.py\n",
      "Found in Poulinakis-Konstantinos/Multimodal-Barlow-Twins at mmsdk/mmdatasdk/dataset/standard_datasets/CMU_MOSI/cmu_mosi_std_folds.py\n",
      "Found in bagustris/ssl-ser at s3prl/downstream/mosei/utility/CMU-MultimodalSDK/mmsdk/mmdatasdk/dataset/standard_datasets/CMU_MOSI/cmu_mosi_std_folds.py\n",
      "Found in belgats/Arabic-Multimodal-Dataset at CMU-Multimodal-SDK/mmsdk/mmdatasdk/dataset/standard_datasets/CMU_MOSI/cmu_mosi_std_folds.py\n",
      "Found in qiuchili/MMSentiReader at mmsdk/mmdatasdk/dataset/standard_datasets/CMU_MOSI/cmu_mosi_std_folds.py\n",
      "Found in shamanez/MAIA-Data-Processing at Preprocessing_scripts/cmu-mosi/mmsdk/mmdatasdk/dataset/standard_datasets/CMU_MOSI/cmu_mosi_std_folds.py\n",
      "Found in Ting2004/ASR-TermProject at CMU-MultimodalSDK/mmsdk/mmdatasdk/dataset/standard_datasets/CMU_MOSI/cmu_mosi_std_folds.py\n",
      "Found in kirusfg/dmer at app/pipeline/CMU-MultimodalSDK/mmsdk/mmdatasdk/dataset/standard_datasets/CMU_MOSI/cmu_mosi_std_folds.py\n",
      "Found in xichenyao/nlp_final at dataset_splits.py\n",
      "Found in pombredanne/https-chromium.googlesource.com-infra-luci-luci-py at appengine/swarming/bb/go/chromium/org/luci/buildbucket/proto/backend_prpc_pb2.py\n",
      "Found in barry-008/system-config at gcode/scim-cs/ime-py/wubi86_multi_trans.py\n",
      "Found in pombredanne/https-chromium.googlesource.com-infra-luci-luci-py at appengine/swarming/bb/go/chromium/org/luci/buildbucket/proto/builds_service_prpc_pb2.py\n",
      "Found in barry-008/system-config at gcode/scim-cs/ime-py/wubi98_multi_trans.py\n",
      "Found in barry-008/system-config at gcode/scim-cs/ime-py/wubi98_single_trans.py\n",
      "Found in LiuFang816/SALSTM_py_data at python/baohaojun_system-config/system-config-master/gcode/scim-cs/ime-py/wubi86_trans.py\n",
      "Found in aoqzhu/KEBR at data/CMU-MOSI/train_valid_test_fold.py\n"
     ]
    }
   ],
   "source": [
    "from github import Github\n",
    "from dotenv import load_dotenv\n",
    "import os\n",
    "\n",
    "load_dotenv()\n",
    "\n",
    "# Authenticate using your personal access token\n",
    "g = Github(os.getenv(\"GITHUB_TOKEN\"))\n",
    "\n",
    "# Build a query. For example, to search for Python code that imports 'requests'\n",
    "query = \"'ML VFI' language:python\"\n",
    "\n",
    "# Use the search_code method to get matching code files\n",
    "code_results = g.search_code(query)\n",
    "\n",
    "# Iterate over the results to inspect matching files\n",
    "for code_file in code_results:\n",
    "    repo = code_file.repository.full_name\n",
    "    path = code_file.path\n",
    "    print(f\"Found in {repo} at {path}\")\n"
   ]
  }
 ],
 "metadata": {
  "kernelspec": {
   "display_name": "Python 3",
   "language": "python",
   "name": "python3"
  },
  "language_info": {
   "codemirror_mode": {
    "name": "ipython",
    "version": 3
   },
   "file_extension": ".py",
   "mimetype": "text/x-python",
   "name": "python",
   "nbconvert_exporter": "python",
   "pygments_lexer": "ipython3",
   "version": "3.12.0"
  }
 },
 "nbformat": 4,
 "nbformat_minor": 5
}
