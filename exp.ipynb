{
 "cells": [
  {
   "cell_type": "code",
   "execution_count": 21,
   "id": "ddb93210",
   "metadata": {
    "scrolled": false
   },
   "outputs": [
    {
     "name": "stdout",
     "output_type": "stream",
     "text": [
      "{'paperId': '40345901fd28cbf65791c34671db6548b1089ed4', 'url': 'https://www.semanticscholar.org/paper/40345901fd28cbf65791c34671db6548b1089ed4', 'title': 'BIGPATENT: A Large-Scale Dataset for Abstractive and Coherent Summarization', 'abstract': 'Most existing text summarization datasets are compiled from the news domain, where summaries have a flattened discourse structure. In such datasets, summary-worthy content often appears in the beginning of input articles. Moreover, large segments from input articles are present verbatim in their respective summaries. These issues impede the learning and evaluation of systems that can understand an article’s global content structure as well as produce abstractive summaries with high compression ratio. In this work, we present a novel dataset, BIGPATENT, consisting of 1.3 million records of U.S. patent documents along with human written abstractive summaries. Compared to existing summarization datasets, BIGPATENT has the following properties: i) summaries contain a richer discourse structure with more recurring entities, ii) salient content is evenly distributed in the input, and iii) lesser and shorter extractive fragments are present in the summaries. Finally, we train and evaluate baselines and popular learning models on BIGPATENT to shed light on new challenges and motivate future directions for summarization research.', 'citationCount': 214, 'citationStyles': {'bibtex': '@Article{Sharma2019BIGPATENTAL,\\n author = {Eva Sharma and Chen Li and Lu Wang},\\n booktitle = {Annual Meeting of the Association for Computational Linguistics},\\n journal = {ArXiv},\\n title = {BIGPATENT: A Large-Scale Dataset for Abstractive and Coherent Summarization},\\n volume = {abs/1906.03741},\\n year = {2019}\\n}\\n'}}\n"
     ]
    }
   ],
   "source": [
    "from semanticscholar import SemanticScholar\n",
    "\n",
    "sch = SemanticScholar()\n",
    "response = sch.search_paper(\n",
    "    query='Abstractive text summarization and new large-scale datasets',\n",
    "    bulk=True,\n",
    "    sort='citationCount:desc',\n",
    "    min_citation_count=50,\n",
    "    fields=['abstract', 'citationCount','citationStyles', 'title', 'url',]\n",
    ")\n",
    "\n",
    "for item in response:\n",
    "    print(item)"
   ]
  }
 ],
 "metadata": {
  "kernelspec": {
   "display_name": "Python (myenv)",
   "language": "python",
   "name": "myenv"
  },
  "language_info": {
   "codemirror_mode": {
    "name": "ipython",
    "version": 3
   },
   "file_extension": ".py",
   "mimetype": "text/x-python",
   "name": "python",
   "nbconvert_exporter": "python",
   "pygments_lexer": "ipython3",
   "version": "3.11.5"
  }
 },
 "nbformat": 4,
 "nbformat_minor": 5
}
